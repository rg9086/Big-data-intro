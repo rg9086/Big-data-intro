{
 "cells": [
  {
   "cell_type": "code",
   "execution_count": 1,
   "id": "0ea64266-0efd-42cb-a65b-73f6f3bda44b",
   "metadata": {},
   "outputs": [],
   "source": [
    "# [+] SparkSession 설정\n",
    "from pyspark.sql import SparkSession\n",
    "spark = SparkSession.builder.master('local').appName('udf_age category').getOrCreate()"
   ]
  },
  {
   "cell_type": "code",
   "execution_count": 2,
   "id": "8cb87699-3aa7-4f45-a82d-1fd2f2336901",
   "metadata": {},
   "outputs": [],
   "source": [
    "# 샘플 데이터: 이름과 나이\n",
    "name = [\n",
    "    ('염건호', 25),\n",
    "    ('강동훈', 24),\n",
    "    ('배진우', 21),\n",
    "    ('송솔빈', 60),\n",
    "    ('김수호', 35),\n",
    "    ('김준서', 18),\n",
    "    ('정호준', 28),\n",
    "    \n",
    "]"
   ]
  },
  {
   "cell_type": "code",
   "execution_count": 3,
   "id": "7883acc1-9f12-4f27-b718-9a67d1ccda88",
   "metadata": {},
   "outputs": [],
   "source": [
    "# [+] 스키마 정의\n",
    "schema = ['name', 'age']"
   ]
  },
  {
   "cell_type": "code",
   "execution_count": 4,
   "id": "af3639f0-9785-41f2-b9fd-e154ad10b785",
   "metadata": {},
   "outputs": [],
   "source": [
    "# [+] 데이터프레임 생성\n",
    "df = spark.createDataFrame(data = name, schema=schema)"
   ]
  },
  {
   "cell_type": "code",
   "execution_count": 5,
   "id": "6086da47-2b6a-46f2-93c2-7b555f0e815d",
   "metadata": {},
   "outputs": [
    {
     "name": "stdout",
     "output_type": "stream",
     "text": [
      "+------+---+\n",
      "|  name|age|\n",
      "+------+---+\n",
      "|염건호| 25|\n",
      "|강동훈| 24|\n",
      "|배진우| 21|\n",
      "|송솔빈| 60|\n",
      "|김수호| 35|\n",
      "|김준서| 18|\n",
      "|정호준| 28|\n",
      "+------+---+\n",
      "\n"
     ]
    }
   ],
   "source": [
    "# [+] 데이터프레임 출력\n",
    "df.show()"
   ]
  },
  {
   "cell_type": "code",
   "execution_count": 6,
   "id": "345f8cce-1a16-4893-8a49-dd79e87ec856",
   "metadata": {},
   "outputs": [
    {
     "name": "stdout",
     "output_type": "stream",
     "text": [
      "root\n",
      " |-- name: string (nullable = true)\n",
      " |-- age: long (nullable = true)\n",
      "\n"
     ]
    }
   ],
   "source": [
    "# [+] 데이터프레임 스키마 출력\n",
    "df.printSchema()"
   ]
  },
  {
   "cell_type": "code",
   "execution_count": 7,
   "id": "2f5d2cb3-0895-4752-8f1b-61605f56af40",
   "metadata": {},
   "outputs": [],
   "source": [
    "# [+] Temporary View 생성\n",
    "df.createOrReplaceTempView('age')"
   ]
  },
  {
   "cell_type": "code",
   "execution_count": 8,
   "id": "75330420-9e2f-4518-98ac-aa60241c9bea",
   "metadata": {},
   "outputs": [],
   "source": [
    "# udf\n",
    "\n",
    "def age_category(age):\n",
    "    if (age < 35):\n",
    "        return 'young'\n",
    "    elif (age >= 35 and age < 59):\n",
    "        return 'adult'\n",
    "    else:\n",
    "        return 'senior'"
   ]
  },
  {
   "cell_type": "code",
   "execution_count": 9,
   "id": "a4dd1bbd-a61a-409a-bdb2-7de8f5fdab2a",
   "metadata": {},
   "outputs": [
    {
     "data": {
      "text/plain": [
       "<function __main__.age_category(age)>"
      ]
     },
     "execution_count": 9,
     "metadata": {},
     "output_type": "execute_result"
    }
   ],
   "source": [
    "spark.udf.register('age_category',age_category)"
   ]
  },
  {
   "cell_type": "code",
   "execution_count": 11,
   "id": "6f3f2709-5696-4dc4-9dc9-cc9e63676abb",
   "metadata": {},
   "outputs": [
    {
     "name": "stdout",
     "output_type": "stream",
     "text": [
      "+------+---+-----------------+\n",
      "|  name|age|age_category(age)|\n",
      "+------+---+-----------------+\n",
      "|염건호| 25|            young|\n",
      "|강동훈| 24|            young|\n",
      "|배진우| 21|            young|\n",
      "|송솔빈| 60|           senior|\n",
      "|김수호| 35|            adult|\n",
      "|김준서| 18|            young|\n",
      "|정호준| 28|            young|\n",
      "+------+---+-----------------+\n",
      "\n"
     ]
    }
   ],
   "source": [
    "#SQL문처리\n",
    "spark.sql(\"SELECT name,age, age_category(age) \\\n",
    "    From age\").show()"
   ]
  },
  {
   "cell_type": "code",
   "execution_count": null,
   "id": "cb7c2373-c016-429b-8281-b8fa0f9321e1",
   "metadata": {},
   "outputs": [],
   "source": []
  },
  {
   "cell_type": "code",
   "execution_count": null,
   "id": "68a0c14f-7b23-4d11-beec-1289a6fac7b6",
   "metadata": {},
   "outputs": [],
   "source": []
  },
  {
   "cell_type": "code",
   "execution_count": null,
   "id": "4d691aa3-741f-4473-a08b-4ca8462ee06f",
   "metadata": {},
   "outputs": [],
   "source": []
  }
 ],
 "metadata": {
  "kernelspec": {
   "display_name": "Python 3 (ipykernel)",
   "language": "python",
   "name": "python3"
  },
  "language_info": {
   "codemirror_mode": {
    "name": "ipython",
    "version": 3
   },
   "file_extension": ".py",
   "mimetype": "text/x-python",
   "name": "python",
   "nbconvert_exporter": "python",
   "pygments_lexer": "ipython3",
   "version": "3.9.13"
  }
 },
 "nbformat": 4,
 "nbformat_minor": 5
}
